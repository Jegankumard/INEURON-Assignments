{
 "cells": [
  {
   "cell_type": "markdown",
   "metadata": {},
   "source": [
    "Problem Statement 1:\n",
    "\n",
    "Write a function so that the columns of the output matrix are powers of the input vector.\n",
    "The order of the powers is determined by the increasing boolean argument. Specifically, when increasing is False, \n",
    "the i-th output column is the input vector raised element-wise to the power of N - i - 1.\n",
    "\n",
    "HINT: Such a matrix with a geometric progression in each row is named for Alexandre-Theophile Vandermonde.\n",
    "\n",
    "    Input  -  [1, 2, 3]\n",
    "\n",
    "    Output - [[1,1,1],\n",
    "\n",
    "              [1,2,4],\n",
    "          \n",
    "              [1,3,9]]"
   ]
  },
  {
   "cell_type": "code",
   "execution_count": 17,
   "metadata": {
    "collapsed": false
   },
   "outputs": [
    {
     "name": "stdout",
     "output_type": "stream",
     "text": [
      "Enter the no of inputs: \n",
      "3\n",
      "Enter the Values: \n",
      "10\n",
      "20\n",
      "30\n",
      "Output in Ascending Order (TYPE 'TRUE' ELSE 'FALSE') : \n",
      "FALSE\n",
      "Output Matrix formed is : \n",
      " [[100  10   1]\n",
      " [400  20   1]\n",
      " [900  30   1]]\n"
     ]
    }
   ],
   "source": [
    "import numpy as np\n",
    "def ATV_matrix(n,lst,order):\n",
    "    x=np.zeros(((n,n)),dtype=np.int64)\n",
    "    if order=='TRUE':\n",
    "        for j in range(0,n):\n",
    "            for i in range (0,n):\n",
    "                x[i][j]=((x[i][j]+int(lst[i]))**j)\n",
    "    elif order=='FALSE':\n",
    "        for i in range (0,n):\n",
    "            for j in range(0,n):\n",
    "                x[i][j]=((x[i][j]+int(lst[i]))**(n-j-1))\n",
    "    return (x)\n",
    "            \n",
    "print(\"Enter the no of inputs: \")\n",
    "n=int(input())\n",
    "lst=[]\n",
    "print(\"Enter the Values: \")\n",
    "for i in range(n):\n",
    "    lst.append(input())\n",
    "arr=np.array(lst)\n",
    "print(\"Output in Ascending Order (TYPE 'TRUE' ELSE 'FALSE') : \")\n",
    "order=str(input())\n",
    "out=ATV_matrix(n,lst,order)\n",
    "print(\"Output Matrix formed is : \\n\",out)"
   ]
  },
  {
   "cell_type": "markdown",
   "metadata": {},
   "source": [
    "Problem Statement 2:\n",
    "\n",
    "Given a sequence of n values x1, x2, ..., xn and a window size k>0, the k-th moving average of the given sequence is defined as follows:\n",
    "\n",
    "The moving average sequence has n-k+1 elements as shown below.\n",
    "The moving averages with k=4 of a ten-value sequence (n=10) is shown below\n",
    "\n",
    "i 1 2 3 4 5 6 7 8 9 10\n",
    "\n",
    "===== == == == == == == == == == ==\n",
    "\n",
    "Input 10 20 30 40 50 60 70 80 90 100\n",
    "\n",
    "y1 25 = (10+20+30+40)/4\n",
    "\n",
    "y2 35 = (20+30+40+50)/4\n",
    "\n",
    "y3 45 = (30+40+50+60)/4\n",
    "\n",
    "y4 55 = (40+50+60+70)/4\n",
    "\n",
    "y5 65 = (50+60+70+80)/4\n",
    "\n",
    "y6 75 = (60+70+80+90)/4\n",
    "\n",
    "y7 85 = (70+80+90+100)/4\n",
    "\n",
    "Thus, the moving average sequence has n-k+1=10-4+1=7 values.\n",
    "\n",
    "Question: Write a function to find moving average in an array over a window:\n",
    "\n",
    "Test it over [3, 5, 7, 2, 8, 10, 11, 65, 72, 81, 99, 100, 150] and window of 3."
   ]
  },
  {
   "cell_type": "code",
   "execution_count": 26,
   "metadata": {
    "collapsed": false
   },
   "outputs": [
    {
     "name": "stdout",
     "output_type": "stream",
     "text": [
      "Moving average value list:  [5.0, 4.67, 5.67, 6.67, 9.67, 28.67, 49.33, 72.67, 84.0, 93.33, 116.33]\n",
      "Length of the Moving Avg list (l-n+1):  11\n"
     ]
    }
   ],
   "source": [
    "def Mov_avg(lst,n):\n",
    "    l=len(lst)\n",
    "    r=l-n+1\n",
    "    lst1=[]\n",
    "    for j in range(0,r):\n",
    "        cal=0\n",
    "        for k in range(0,n):\n",
    "            if k==n-1:\n",
    "                cal=((cal+lst[j+k])/n)\n",
    "            else:\n",
    "                 cal=(cal+lst[j+k])\n",
    "        lst1.append(round(cal,2))\n",
    "    return lst1\n",
    "lst = [3, 5, 7, 2, 8, 10, 11, 65, 72, 81, 99, 100, 150]\n",
    "n = 3\n",
    "movavg=Mov_avg(lst,n)\n",
    "print(\"Moving average value list: \", movavg)\n",
    "print(\"Length of the Moving Avg list (l-n+1): \", len(movavg))"
   ]
  }
 ],
 "metadata": {
  "anaconda-cloud": {},
  "kernelspec": {
   "display_name": "Python [default]",
   "language": "python",
   "name": "python3"
  },
  "language_info": {
   "codemirror_mode": {
    "name": "ipython",
    "version": 3
   },
   "file_extension": ".py",
   "mimetype": "text/x-python",
   "name": "python",
   "nbconvert_exporter": "python",
   "pygments_lexer": "ipython3",
   "version": "3.5.2"
  }
 },
 "nbformat": 4,
 "nbformat_minor": 4
}
