{
 "cells": [
  {
   "cell_type": "markdown",
   "metadata": {},
   "source": [
    "PYTHON ASSIGNMENT 3\n",
    "\n",
    "1.1 Write a Python Program to implement your own myreduce() function which works exactly\n",
    "like Python's built-in function reduce()"
   ]
  },
  {
   "cell_type": "code",
   "execution_count": 21,
   "metadata": {
    "collapsed": false
   },
   "outputs": [
    {
     "name": "stdout",
     "output_type": "stream",
     "text": [
      "Enter the list(Eg.1 2 3 with spaces between digits): \n",
      "1 2 3 4 5\n",
      "Press the numbers to perform corresponding operations  1-Add  2-Multiply\n",
      "2\n",
      "Output of Reduce function is:  120\n"
     ]
    }
   ],
   "source": [
    "#Calculate sum/product of list performing functions of reduce   \n",
    "def myreduce(opr,lst):\n",
    "    a=int(lst[0])\n",
    "    for i in range(1,len(lst)):\n",
    "        b=int(lst[i])\n",
    "        if (opr==1):\n",
    "            a=add(a,b)\n",
    "        if (opr==2):\n",
    "            a=multiply(a,b)\n",
    "    return a\n",
    "def add(a,b):\n",
    "    return a+b\n",
    "def multiply(a,b):\n",
    "    return a*b\n",
    "print(\"Enter the list(Eg.1 2 3 with spaces between digits): \")\n",
    "lst=list(input().split())\n",
    "print(\"Press the numbers to perform corresponding operations  1-Add  2-Multiply\")\n",
    "opr=int(input())\n",
    "red=myreduce(opr,lst)\n",
    "print(\"Output of Reduce function is: \",red)"
   ]
  },
  {
   "cell_type": "markdown",
   "metadata": {},
   "source": [
    "1.2 Write a Python program to implement your own myfilter() function which works exactly\n",
    "like Python's built-in function filter()"
   ]
  },
  {
   "cell_type": "code",
   "execution_count": 61,
   "metadata": {
    "collapsed": false
   },
   "outputs": [
    {
     "name": "stdout",
     "output_type": "stream",
     "text": [
      "Output of filter functions is/are: \n",
      "yes\n",
      "no\n",
      "may\n"
     ]
    }
   ],
   "source": [
    "#Filter the words with the presence of vowels \n",
    "def myfilter(lst):\n",
    "\n",
    "    for i in range(0,len(lst)):\n",
    "        x=vow(lst[i])\n",
    "\n",
    "def vow(a):\n",
    "    spl=[]\n",
    "    vowel=[\"a\",\"e\",\"i\",\"o\",\"u\"]\n",
    "    for j in range(0,len(a)):\n",
    "        if a[j] in vowel:\n",
    "            lst1.append(a)\n",
    "            break\n",
    "        else:\n",
    "            continue\n",
    "\n",
    "lst=[\"yes\",\"no\",\"fly\",\"cry\",\"may\"]\n",
    "lst1=[]\n",
    "x=myfilter(lst)\n",
    "print(\"Output of filter functions is/are: \")\n",
    "for k in lst1:\n",
    "    print(k)"
   ]
  },
  {
   "cell_type": "markdown",
   "metadata": {},
   "source": [
    "2. Implement List comprehensions to produce the following lists.\n",
    "Write List comprehensions to produce the following Lists\n",
    "\n",
    "['A', 'C', 'A', 'D', 'G', 'I', ’L’, ‘ D’]\n",
    "\n",
    "['x', 'xx', 'xxx', 'xxxx', 'y', 'yy', 'yyy', 'yyyy', 'z', 'zz', 'zzz', 'zzzz']\n",
    "\n",
    "['x', 'y', 'z', 'xx', 'yy', 'zz', 'xxx', 'yyy', 'zzz', 'xxxx', 'yyyy', 'zzzz']\n",
    "\n",
    "[[2], [3], [4], [3], [4], [5], [4], [5], [6]]\n",
    "\n",
    "[[2, 3, 4, 5], [3, 4, 5, 6],[4, 5, 6, 7], [5, 6, 7, 8]]\n",
    "\n",
    "[(1, 1), (2, 1), (3, 1), (1, 2), (2, 2), (3, 2), (1, 3), (2, 3), (3, 3)]"
   ]
  },
  {
   "cell_type": "code",
   "execution_count": 62,
   "metadata": {
    "collapsed": false
   },
   "outputs": [
    {
     "name": "stdout",
     "output_type": "stream",
     "text": [
      "['A', 'C', 'A', 'D', 'G', 'I', 'L', 'D']\n",
      "['x', 'xx', 'xxx', 'xxxx', 'y', 'yy', 'yyy', 'yyyy', 'z', 'zz', 'zzz', 'zzzz']\n",
      "['x', 'y', 'z', 'xx', 'yy', 'zz', 'xxx', 'yyy', 'zzz', 'xxxx', 'yyyy', 'zzzz']\n",
      "[[2], [3], [4], [3], [4], [5], [4], [5], [6]]\n",
      "[[2, 3, 4, 5], [3, 4, 5, 6], [4, 5, 6, 7], [5, 6, 7, 8]]\n",
      "[(1, 1), (2, 1), (3, 1), (1, 2), (2, 2), (3, 2), (1, 3), (2, 3), (3, 3)]\n"
     ]
    }
   ],
   "source": [
    "print([i for i in ('ACADGILD')])\n",
    "print([i*n for i in [\"x\",\"y\",\"z\"] for n in range(1,5)])\n",
    "print([i*n for n in range(1,5)  for i in [\"x\",\"y\",\"z\"] ])\n",
    "print([[n+i] for i in range(1,4) for n in range(1,4)])\n",
    "print([[(n+i) for i in range(1,5)] for n in range(1,5)])\n",
    "print([(n,i) for i in range(1,4) for n in range(1,4)])"
   ]
  },
  {
   "cell_type": "code",
   "execution_count": null,
   "metadata": {
    "collapsed": true
   },
   "outputs": [],
   "source": []
  }
 ],
 "metadata": {
  "anaconda-cloud": {},
  "kernelspec": {
   "display_name": "Python [conda root]",
   "language": "python",
   "name": "conda-root-py"
  },
  "language_info": {
   "codemirror_mode": {
    "name": "ipython",
    "version": 3
   },
   "file_extension": ".py",
   "mimetype": "text/x-python",
   "name": "python",
   "nbconvert_exporter": "python",
   "pygments_lexer": "ipython3",
   "version": "3.5.2"
  }
 },
 "nbformat": 4,
 "nbformat_minor": 1
}
