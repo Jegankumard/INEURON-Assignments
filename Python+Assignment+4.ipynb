{
 "cells": [
  {
   "cell_type": "markdown",
   "metadata": {},
   "source": [
    "Python Assignment 4\n",
    "\n",
    "1.1 Write a Python Program(with class concepts) to find the area of the triangle using the below\n",
    "formula.\n",
    "area = (s*(s-a)*(s-b)*(s-c)) ** 0.5\n",
    "Function to take the length of the sides of triangle from user should be defined in the parent\n",
    "class and function to calculate the area should be defined in subclass.\n"
   ]
  },
  {
   "cell_type": "code",
   "execution_count": 12,
   "metadata": {
    "collapsed": false
   },
   "outputs": [
    {
     "name": "stdout",
     "output_type": "stream",
     "text": [
      "Enter the three sides of triangle(Eg.1 2 3 with spaces between digits): \n",
      "10 12 13\n",
      "Area of triangle =  56.99506557588999\n"
     ]
    }
   ],
   "source": [
    "class triangle_area:\n",
    "    def calculate_area(a,b,c):\n",
    "        s=(a+b+c)/2\n",
    "        area_sq=(s)*(s-a)*(s-b)*(s-c)\n",
    "        area=(area_sq)**0.5\n",
    "        return area\n",
    "\n",
    "class triangle:\n",
    "    def sides():\n",
    "        print(\"Enter the three sides of triangle(Eg.1 2 3 with spaces between digits): \")\n",
    "        a,b,c=map(int,input().split())\n",
    "        cal= triangle_area.calculate_area(float(a),float(b),float(c))\n",
    "        return(cal)\n",
    "    \n",
    "x=triangle.sides()\n",
    "print (\"Area of triangle = \",x)"
   ]
  },
  {
   "cell_type": "markdown",
   "metadata": {},
   "source": [
    "1.2 Write a function filter_long_words() that takes a list of words and an integer n and returns\n",
    "the list of words that are longer than n.\n"
   ]
  },
  {
   "cell_type": "code",
   "execution_count": 20,
   "metadata": {
    "collapsed": false
   },
   "outputs": [
    {
     "name": "stdout",
     "output_type": "stream",
     "text": [
      "Enter the integer: \n",
      "3\n",
      "List of words longer than length 3 : ['door', 'every', 'faster', 'germany'] \n"
     ]
    }
   ],
   "source": [
    "def filter_long_words(lst,n):\n",
    "    lst2=[]\n",
    "    for i in lst:\n",
    "        if len(i)>n:\n",
    "            lst2.append(i)\n",
    "    return(lst2)\n",
    "lst=[\"a\",\"be\",\"cat\",\"door\",\"every\",\"faster\",\"germany\"]  \n",
    "print(\"Enter the integer: \")\n",
    "n=int(input())\n",
    "x=filter_long_words(lst,n)\n",
    "print (\"List of words longer than length {0} : {1} \".format(n,x))"
   ]
  },
  {
   "cell_type": "markdown",
   "metadata": {},
   "source": [
    "2.1 Write a Python program using function concept that maps list of words into a list of integers\n",
    "representing the lengths of the corresponding words.\n",
    "Hint: If a list [ ab,cde,erty] is passed on to the python function output should come as [2,3,4]\n",
    "Here 2,3 and 4 are the lengths of the words in the list.\n"
   ]
  },
  {
   "cell_type": "code",
   "execution_count": 23,
   "metadata": {
    "collapsed": false
   },
   "outputs": [
    {
     "name": "stdout",
     "output_type": "stream",
     "text": [
      "List of length of words :  [1, 2, 2, 3, 4, 5]\n"
     ]
    }
   ],
   "source": [
    "def len_list(lst):\n",
    "    lst2=[]\n",
    "    for i in lst:\n",
    "        x=len(i)\n",
    "        lst2.append(x)\n",
    "    return(lst2)\n",
    "lst=[\"a\",\"bc\",\"de\",\"fgh\",\"hijk\",\"lmnop\"]  \n",
    "x=len_list(lst)\n",
    "print (\"List of length of words : \",x)"
   ]
  },
  {
   "cell_type": "markdown",
   "metadata": {},
   "source": [
    "2.2 Write a Python function which takes a character (i.e. a string of length 1) and returns True if\n",
    "it is a vowel, False otherwise.\n",
    "\n"
   ]
  },
  {
   "cell_type": "code",
   "execution_count": 28,
   "metadata": {
    "collapsed": false
   },
   "outputs": [
    {
     "name": "stdout",
     "output_type": "stream",
     "text": [
      "Enter the character: \n",
      "a\n",
      "Character a is a vowel: True \n"
     ]
    }
   ],
   "source": [
    "def val_vowel(n):\n",
    "    lst=[\"a\",\"e\",\"i\",\"o\",\"u\"]\n",
    "    if n in lst:\n",
    "        return True\n",
    "    else:\n",
    "        return False\n",
    "print(\"Enter the character: \")\n",
    "n=str(input())\n",
    "x=val_vowel(n)\n",
    "print (\"Character {0} is a vowel: {1} \".format(n,x))"
   ]
  }
 ],
 "metadata": {
  "anaconda-cloud": {},
  "kernelspec": {
   "display_name": "Python [conda root]",
   "language": "python",
   "name": "conda-root-py"
  },
  "language_info": {
   "codemirror_mode": {
    "name": "ipython",
    "version": 3
   },
   "file_extension": ".py",
   "mimetype": "text/x-python",
   "name": "python",
   "nbconvert_exporter": "python",
   "pygments_lexer": "ipython3",
   "version": "3.5.2"
  }
 },
 "nbformat": 4,
 "nbformat_minor": 1
}
